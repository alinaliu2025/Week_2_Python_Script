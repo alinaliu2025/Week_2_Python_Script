{
 "cells": [
  {
   "cell_type": "code",
   "execution_count": 3,
   "id": "26c0b1a0",
   "metadata": {
    "scrolled": true
   },
   "outputs": [
    {
     "name": "stdout",
     "output_type": "stream",
     "text": [
      "Requirement already satisfied: openpyxl in /opt/anaconda3/lib/python3.9/site-packages (3.0.9)\n",
      "Requirement already satisfied: et-xmlfile in /opt/anaconda3/lib/python3.9/site-packages (from openpyxl) (1.1.0)\n",
      "Requirement already satisfied: xlsxwriter in /opt/anaconda3/lib/python3.9/site-packages (3.0.1)\n"
     ]
    }
   ],
   "source": [
    "!pip install openpyxl\n",
    "!pip install xlsxwriter"
   ]
  },
  {
   "cell_type": "code",
   "execution_count": 4,
   "id": "53e58344",
   "metadata": {},
   "outputs": [],
   "source": [
    "import requests\n",
    "import os\n",
    "import json\n",
    "import pandas as pd\n",
    "import matplotlib.pyplot as plt\n",
    "\n",
    "# Set column width to 400\n",
    "pd.set_option('display.max_colwidth', 400)\n",
    "\n",
    "# Rows\n",
    "#pd.set_option('display.max_rows', 100)"
   ]
  },
  {
   "cell_type": "code",
   "execution_count": 5,
   "id": "6d1994dd",
   "metadata": {},
   "outputs": [],
   "source": [
    "# Replace 'your-api-key' with your actual OpenAI API key\n",
    "api_key = 'sk-proj-AAyMKLL6T1yIp53XJRPST3BlbkFJ9mTYSHpESQ4ijgm90mug'\n",
    "\n",
    "# Define the headers\n",
    "headers = {\n",
    "    'Content-Type': 'application/json',\n",
    "    'Authorization': f'Bearer {api_key}'\n",
    "}\n",
    "\n",
    "rubric = \"Correctness (30%): This is the most critical aspect. The answer must be correct to earn a high score. Incorrect answers would score low, regardless of the other qualities.Completeness (25%): This measures whether all necessary steps and explanations are included. Partial answers or those missing critical details would score lower.Efficiency (20%): This assesses whether the solution is achieved through an efficient method, avoiding unnecessarily complicated steps. Solutions that are correct and complete but cumbersome could lose some points here.Clarity (15%): This evaluates how easy it is to understand the solution. Clear, well-organized answers would score highly, while confusing or poorly structured responses would score lower. Style (10%): The code must be clean and well-commented\""
   ]
  },
  {
   "cell_type": "markdown",
   "id": "0ecc605f",
   "metadata": {},
   "source": [
    "# Functions"
   ]
  },
  {
   "cell_type": "code",
   "execution_count": 6,
   "id": "8aa459e5",
   "metadata": {},
   "outputs": [],
   "source": [
    "def fetch_solution_35(question):\n",
    "    '''Function to fetch the solution for a question using GPT-3.5 with intermediate steps'''\n",
    "    \n",
    "    data = {\n",
    "        'model': 'gpt-3.5-turbo',\n",
    "        'messages': [\n",
    "            {\"role\": \"system\", \"content\": \"You are a helpful assistant. Provide a detailed solution to the math problem, including all intermediate steps.\"},\n",
    "            {\"role\": \"user\", \"content\": question}\n",
    "        ],\n",
    "        'max_tokens': 400,\n",
    "        'temperature': 0\n",
    "    }\n",
    "    response = requests.post('https://api.openai.com/v1/chat/completions', headers=headers, json=data)\n",
    "    result = response.json()\n",
    "    return result['choices'][0]['message']['content'].strip()\n",
    "\n",
    "\n",
    "def fetch_solution_4(question):\n",
    "    '''Function to fetch the solution for a question using GPT-4 with intermediate steps'''\n",
    "    \n",
    "    data = {\n",
    "        'model': 'gpt-4',\n",
    "        'messages': [\n",
    "            {\"role\": \"system\", \"content\": \"You are a helpful assistant. Provide a detailed solution to the math problem, including all intermediate steps\"},\n",
    "            {\"role\": \"user\", \"content\": question}\n",
    "        ],\n",
    "        'max_tokens': 400,\n",
    "        'temperature': 0\n",
    "    }\n",
    "    response = requests.post('https://api.openai.com/v1/chat/completions', headers=headers, json=data)\n",
    "    result = response.json()\n",
    "    return result['choices'][0]['message']['content'].strip()\n",
    "\n",
    "def fetch_solution_4_ques(question):\n",
    "    '''Function to fetch the solution for a question using GPT-4 with intermediate steps'''\n",
    "    \n",
    "    data = {\n",
    "        'model': 'gpt-4',\n",
    "        'messages': [\n",
    "            {\"role\": \"system\", \"content\": \"You are a helpful assistant. Provide only a decimal grade from 0 to 10 to the math problem's solution. 10 being the best, 0 being the worst.\"},\n",
    "            {\"role\": \"user\", \"content\": question}\n",
    "        ],\n",
    "        'max_tokens': 400,\n",
    "        'temperature': 0,\n",
    "        'top_p': 1.0\n",
    "    }\n",
    "    response = requests.post('https://api.openai.com/v1/chat/completions', headers=headers, json=data)\n",
    "    result = response.json()\n",
    "    return result['choices'][0]['message']['content'].strip()"
   ]
  },
  {
   "cell_type": "markdown",
   "id": "373ef4fb",
   "metadata": {},
   "source": [
    "# Converting json to df and storing gpt 3.5 and 4 solutions to df"
   ]
  },
  {
   "cell_type": "markdown",
   "id": "039a0bdb",
   "metadata": {},
   "source": [
    "## Making .xlsx files for all types"
   ]
  },
  {
   "cell_type": "code",
   "execution_count": 5,
   "id": "cb6d3b40",
   "metadata": {
    "scrolled": false
   },
   "outputs": [
    {
     "name": "stdout",
     "output_type": "stream",
     "text": [
      "Data/MATH/test/counting_and_probability\n",
      "Data/MATH/test/intermediate_algebra\n"
     ]
    },
    {
     "name": "stderr",
     "output_type": "stream",
     "text": [
      "\n",
      "KeyboardInterrupt\n",
      "\n"
     ]
    }
   ],
   "source": [
    "# Base directory where all folders are stored\n",
    "base_directory = 'Data/MATH/test'\n",
    "solution_directory = 'Data/MATH/solution'\n",
    "\n",
    "# Dictionary to hold dataframes for each subject\n",
    "dataframes = {}\n",
    "\n",
    "# Iterate over each subdirectory in the base directory\n",
    "for subdir in os.listdir(base_directory):\n",
    "    subdir_path = os.path.join(base_directory, subdir)\n",
    "    if os.path.isdir(subdir_path):  # Make sure it's a directory\n",
    "        print(subdir_path)\n",
    "        new_df = pd.DataFrame()  # Initialize a new dataframe for each folder\n",
    "\n",
    "        # Iterate over each file in the subdirectory\n",
    "        for filename in os.listdir(subdir_path):\n",
    "            if filename.endswith('62.json'):  # Check for specific file type\n",
    "                filepath = os.path.join(subdir_path, filename)\n",
    "                with open(filepath, 'r') as file:\n",
    "                    data = json.load(file)\n",
    "                    df = pd.DataFrame([data])\n",
    "                    new_df = pd.concat([new_df, df], ignore_index=True)\n",
    "                    \n",
    "        # Add GPT 3.5 and 4 solutions\n",
    "        new_df['gpt3.5_solution'] = new_df['problem'].apply(fetch_solution_35)\n",
    "        new_df['gpt4_solution'] = new_df['problem'].apply(fetch_solution_4)\n",
    "        \n",
    "        # Store the dataframe in the dictionary with the folder name as the key\n",
    "        dataframes[subdir] = new_df\n",
    "        \n",
    "    # Create Excel for each type\n",
    "    for key, df in dataframes.items():\n",
    "        save_path = f'{solution_directory}/{key}_modified.xlsx'\n",
    "        df.rename(columns={'solution': 'kaggle_solution'}, inplace=True) # New\n",
    "        new_df.to_excel(save_path, index=False, engine='openpyxl')\n",
    "        #new_df.to_csv(save_path)\n",
    "        "
   ]
  },
  {
   "cell_type": "markdown",
   "id": "f6606864",
   "metadata": {},
   "source": [
    "## Making files for Algebra questions and getting Kaggle and GPT-3.5 Scoring"
   ]
  },
  {
   "cell_type": "code",
   "execution_count": 10,
   "id": "60d78a16",
   "metadata": {},
   "outputs": [
    {
     "name": "stdout",
     "output_type": "stream",
     "text": [
      "Data/MATH/test/algebra\n",
      "CPU times: user 1.25 s, sys: 219 ms, total: 1.47 s\n",
      "Wall time: 3min 37s\n"
     ]
    }
   ],
   "source": [
    "%%time\n",
    "# Testing Copy\n",
    "\n",
    "# Base directory where all folders are stored\n",
    "base_directory = 'Data/MATH/test'\n",
    "solution_directory = 'Data/MATH/solution'\n",
    "\n",
    "# Dictionary to hold dataframes for each subject\n",
    "dataframes = {}\n",
    "\n",
    "# Iterate over each subdirectory in the base directory\n",
    "for subdir in os.listdir(base_directory):\n",
    "    subdir_path = os.path.join(base_directory, subdir)\n",
    "    if os.path.isdir(subdir_path) and subdir.startswith(\"a\"):  # Make sure it's a directory\n",
    "        print(subdir_path)\n",
    "        new_df = pd.DataFrame()  # Initialize a new dataframe for each folder\n",
    "\n",
    "        # Iterate over each file in the subdirectory\n",
    "        for filename in os.listdir(subdir_path):\n",
    "            if filename.endswith('62.json'):  # Check for specific file type\n",
    "                filepath = os.path.join(subdir_path, filename)\n",
    "                with open(filepath, 'r') as file:\n",
    "                    data = json.load(file)\n",
    "                    df = pd.DataFrame([data])\n",
    "                    new_df = pd.concat([new_df, df], ignore_index=True)\n",
    "        \n",
    "        # Add GPT 3.5 and 4 solutions\n",
    "        new_df['gpt3.5_solution'] = new_df['problem'].apply(fetch_solution_35)\n",
    "        new_df['gpt4_solution'] = new_df['problem'].apply(fetch_solution_4)\n",
    "        \n",
    "        #Sort and Rename\n",
    "        new_df.rename(columns={'solution': 'kaggle_solution'}, inplace=True)\n",
    "        new_df['temp_sort'] = new_df['level'].str.extract('(\\d+)').astype(int)\n",
    "        new_df.sort_values('temp_sort', inplace=True)\n",
    "        new_df.drop('temp_sort', axis=1, inplace=True)\n",
    "        \n",
    "        #Create Column with question, solution, rubric\n",
    "        new_df['temp'] = \"Problem:\" + new_df['problem'] + \"Kaggle Solution:\" + new_df['kaggle_solution'] + \" Rubric:\" + rubric\n",
    "        new_df['kaggle_score'] = new_df['temp'].apply(fetch_solution_4_ques)\n",
    "        new_df['temp'] = \"Problem:\" + new_df['problem'] + \"GPT3.5 Solution:\" + new_df['gpt3.5_solution'] + \" Rubric:\" + rubric\n",
    "        new_df['gpt3.5_score'] = new_df['temp'].apply(fetch_solution_4_ques)\n",
    "        #new_df['temp'] = \"Problem:\" + new_df['problem'] + \"GPT4 Solution:\" + new_df['gpt4_solution'] + \" Rubric:\" + rubric\n",
    "        #new_df['gpt4_score'] = new_df['temp'].apply(fetch_solution_4_ques)\n",
    "        new_df.drop('temp', axis=1, inplace=True)\n",
    "        \n",
    "        # Rearrange so 'City' is the first column\n",
    "        new_order = ['problem', 'level', 'type', 'kaggle_solution', 'kaggle_score', 'gpt3.5_solution', 'gpt3.5_score', 'gpt4_solution']\n",
    "        new_df = new_df[new_order]\n",
    "\n",
    "        # Store the dataframe in the dictionary with the folder name as the key\n",
    "        dataframes[subdir] = new_df\n",
    "        \n",
    "        \n",
    "    # Create Excel for each type\n",
    "    for key, df in dataframes.items():\n",
    "        save_path = f'{solution_directory}/{key}_modified.xlsx'\n",
    "        df.to_excel(save_path, index=False, engine='openpyxl')\n",
    "        #new_df.to_csv(save_path)\n",
    "         \n",
    " "
   ]
  },
  {
   "cell_type": "markdown",
   "id": "b1c2b0ed",
   "metadata": {},
   "source": [
    "# Creating Plot"
   ]
  },
  {
   "cell_type": "code",
   "execution_count": 11,
   "id": "6de062ec",
   "metadata": {},
   "outputs": [
    {
     "data": {
      "text/html": [
       "<div>\n",
       "<style scoped>\n",
       "    .dataframe tbody tr th:only-of-type {\n",
       "        vertical-align: middle;\n",
       "    }\n",
       "\n",
       "    .dataframe tbody tr th {\n",
       "        vertical-align: top;\n",
       "    }\n",
       "\n",
       "    .dataframe thead th {\n",
       "        text-align: right;\n",
       "    }\n",
       "</style>\n",
       "<table border=\"1\" class=\"dataframe\">\n",
       "  <thead>\n",
       "    <tr style=\"text-align: right;\">\n",
       "      <th></th>\n",
       "      <th>level</th>\n",
       "      <th>kaggle_average_score</th>\n",
       "      <th>gpt3.5_average_score</th>\n",
       "    </tr>\n",
       "  </thead>\n",
       "  <tbody>\n",
       "    <tr>\n",
       "      <th>0</th>\n",
       "      <td>Level 1</td>\n",
       "      <td>9.500000</td>\n",
       "      <td>9.5</td>\n",
       "    </tr>\n",
       "    <tr>\n",
       "      <th>1</th>\n",
       "      <td>Level 2</td>\n",
       "      <td>9.833333</td>\n",
       "      <td>10.0</td>\n",
       "    </tr>\n",
       "    <tr>\n",
       "      <th>2</th>\n",
       "      <td>Level 3</td>\n",
       "      <td>9.000000</td>\n",
       "      <td>10.0</td>\n",
       "    </tr>\n",
       "    <tr>\n",
       "      <th>3</th>\n",
       "      <td>Level 4</td>\n",
       "      <td>9.600000</td>\n",
       "      <td>9.0</td>\n",
       "    </tr>\n",
       "    <tr>\n",
       "      <th>4</th>\n",
       "      <td>Level 5</td>\n",
       "      <td>9.500000</td>\n",
       "      <td>10.0</td>\n",
       "    </tr>\n",
       "  </tbody>\n",
       "</table>\n",
       "</div>"
      ],
      "text/plain": [
       "     level  kaggle_average_score  gpt3.5_average_score\n",
       "0  Level 1              9.500000                   9.5\n",
       "1  Level 2              9.833333                  10.0\n",
       "2  Level 3              9.000000                  10.0\n",
       "3  Level 4              9.600000                   9.0\n",
       "4  Level 5              9.500000                  10.0"
      ]
     },
     "execution_count": 11,
     "metadata": {},
     "output_type": "execute_result"
    }
   ],
   "source": [
    "# Convert 'score' from string to integer\n",
    "df['kaggle_score'] = df['kaggle_score'].astype(float)\n",
    "df['gpt3.5_score'] = df['gpt3.5_score'].astype(float)\n",
    "\n",
    "# Group by 'level', calculate the mean of 'score', and create a new DataFrame\n",
    "grouped_df = df.groupby('level')[['kaggle_score', 'gpt3.5_score']].mean().reset_index()\n",
    "\n",
    "# Rename the column for clarity\n",
    "grouped_df.rename(columns={'kaggle_score': 'kaggle_average_score', 'gpt3.5_score': 'gpt3.5_average_score'}, inplace=True)\n",
    "\n",
    "grouped_df"
   ]
  },
  {
   "cell_type": "code",
   "execution_count": 23,
   "id": "b0ccebed",
   "metadata": {},
   "outputs": [
    {
     "data": {
      "image/png": "[encoded data removed]",
      "text/plain": [
       "<Figure size 1080x648 with 1 Axes>"
      ]
     },
     "metadata": {
      "needs_background": "light"
     },
     "output_type": "display_data"
    }
   ],
   "source": [
    "# Assuming df is already correctly grouped by 'level' and averaged\n",
    "fig, ax = plt.subplots(figsize=(15, 9))\n",
    "bar_width = 0.35\n",
    "\n",
    "# Positions of the bar groups\n",
    "index = range(len(grouped_df['level']))\n",
    "\n",
    "# Creating the bars\n",
    "bar1 = ax.bar(index, grouped_df['kaggle_average_score'], bar_width, label='Kaggle Average', color='blue')\n",
    "bar2 = ax.bar([p + bar_width for p in index], grouped_df['gpt3.5_average_score'], bar_width, label='GPT 3.5 Average', color='red')\n",
    "\n",
    "# Adding features to the plot\n",
    "ax.set_xlabel('Level')\n",
    "ax.set_ylabel('Average Score')\n",
    "ax.set_title('Comparison of Algebra Average Scores by Level', fontsize=20)\n",
    "ax.set_xticks([p + bar_width / 2 for p in index])\n",
    "ax.set_xticklabels(grouped_df['level'])\n",
    "ax.legend()\n",
    "\n",
    "# Show the plot\n",
    "plt.show()"
   ]
  },
  {
   "cell_type": "code",
   "execution_count": null,
   "id": "e979e30b",
   "metadata": {},
   "outputs": [],
   "source": []
  }
 ],
 "metadata": {
  "kernelspec": {
   "display_name": "Python 3 (ipykernel)",
   "language": "python",
   "name": "python3"
  },
  "language_info": {
   "codemirror_mode": {
    "name": "ipython",
    "version": 3
   },
   "file_extension": ".py",
   "mimetype": "text/x-python",
   "name": "python",
   "nbconvert_exporter": "python",
   "pygments_lexer": "ipython3",
   "version": "3.9.12"
  }
 },
 "nbformat": 4,
 "nbformat_minor": 5
}
